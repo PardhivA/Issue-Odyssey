{
 "cells": [
  {
   "cell_type": "code",
   "execution_count": 42,
   "metadata": {},
   "outputs": [],
   "source": [
    "from datetime import datetime\n",
    "import requests\n",
    "import json"
   ]
  },
  {
   "cell_type": "code",
   "execution_count": 47,
   "metadata": {},
   "outputs": [],
   "source": [
    "f = open('issues.json', encoding=\"utf8\")\n",
    "issues = json.load(f)"
   ]
  },
  {
   "cell_type": "code",
   "execution_count": 48,
   "metadata": {},
   "outputs": [],
   "source": [
    "f = open('commits.json', encoding=\"utf8\")\n",
    "commits = json.load(f)"
   ]
  },
  {
   "cell_type": "code",
   "execution_count": 49,
   "metadata": {},
   "outputs": [
    {
     "name": "stdout",
     "output_type": "stream",
     "text": [
      "{'author': {'name': 'Doomsdayrs', 'email': '38189170+Doomsdayrs@users.noreply.github.com', 'date': '2022-10-03T01:07:57Z'}, 'committer': {'name': 'GitHub', 'email': 'noreply@github.com', 'date': '2022-10-03T01:07:57Z'}, 'message': 'Update update.json', 'tree': {'sha': 'ab1bea32cc167f377e7328e8e9829963cbfcf5a7', 'url': 'https://api.github.com/repos/shosetsuorg/shosetsu/git/trees/ab1bea32cc167f377e7328e8e9829963cbfcf5a7'}, 'url': 'https://api.github.com/repos/shosetsuorg/shosetsu/git/commits/692ab6ea892c6e03aa6d1530f460ceb873a1a029', 'comment_count': 0, 'verification': {'verified': True, 'reason': 'valid', 'signature': '-----BEGIN PGP SIGNATURE-----\\n\\nwsBcBAABCAAQBQJjOjXtCRBK7hj4Ov3rIwAA/mkIADUa5Wey6d5tWl+ynAh+dOyS\\nyh3YvoVEHXAXvA+C4cHGXVIx+SMhj3q8JRapaVSNM5UstmG89R8PqhBsSnvLybVP\\nMf5svasFJACQVOOP6hy/6bJmZv3BI4AsySnTQskUi+TfO6gR1/+8gl9hc10Wbtm+\\nPrTIypZQ3uV98u0xiSY+XQispfDXNhbFuIOZB8lh0Xc7T07c+MdY02KYrDpkJHeU\\n31PQiJ4kjNAPFvuZfGeFWQWw+D5wtPOnrGAoU/w32lbioYFAlSsDNDxtEowot5t3\\nzFsjpksr6U+Hcu40diBINQc990eQasm44ZprjF7sgmyuHtJxEKdITemMAb9jHlI=\\n=Grne\\n-----END PGP SIGNATURE-----\\n', 'payload': 'tree ab1bea32cc167f377e7328e8e9829963cbfcf5a7\\nparent ffcdd41cb60ca864d40726c10041fde719c7743f\\nauthor Doomsdayrs <38189170+Doomsdayrs@users.noreply.github.com> 1664759277 -0400\\ncommitter GitHub <noreply@github.com> 1664759277 -0400\\n\\nUpdate update.json'}}\n"
     ]
    }
   ],
   "source": [
    "print(commits[0][\"commit\"])"
   ]
  },
  {
   "cell_type": "code",
   "execution_count": 50,
   "metadata": {},
   "outputs": [
    {
     "name": "stdout",
     "output_type": "stream",
     "text": [
      "100\n"
     ]
    }
   ],
   "source": [
    "issue_commit_map = {}\n",
    "\n",
    "for issue in issues:\n",
    "    issue_created_at = issue[\"created_at\"]\n",
    "    issue_closed_at = issue[\"closed_at\"]\n",
    "    issue_created_at = datetime.fromisoformat(issue_created_at.replace('Z', '+00:00'))\n",
    "    issue_closed_at = datetime.fromisoformat(issue_closed_at.replace('Z', '+00:00'))\n",
    "    issue_commit_map[issue[\"id\"]] = {\"issue_title\": issue[\"title\"], \"commit_messages\":[]}\n",
    "    for commit in commits:\n",
    "    # print(\"created_at\",obj[\"created_at\"], \"\\nclosed_at\", obj[\"closed_at\"])\n",
    "        commit_made_at = commit[\"commit\"][\"committer\"][\"date\"]\n",
    "        commit_made_at = datetime.fromisoformat(commit_made_at.replace('Z', '+00:00'))\n",
    "        # print(commit_made_at)\n",
    "        if commit_made_at>=issue_created_at and commit_made_at<=issue_closed_at:\n",
    "            # new_item = {\"issue_id\": issue[\"id\"], \"commit_message\":commit[\"commit\"][\"message\"]}\n",
    "            issue_commit_map[issue[\"id\"]][\"commit_messages\"].append(commit[\"commit\"][\"message\"])\n",
    "\n",
    "# print(issue_commit_map)\n",
    "\n",
    "\n",
    "\n",
    "issue_commit_map_list = list(issue_commit_map.values())\n",
    "print(len(issue_commit_map_list))\n"
   ]
  },
  {
   "cell_type": "code",
   "execution_count": 95,
   "metadata": {},
   "outputs": [],
   "source": [
    "with open('issue_commit_map.json', 'w', encoding='utf-8') as f:\n",
    "    json.dump(issue_commit_map, f, ensure_ascii=False, indent=4)"
   ]
  },
  {
   "cell_type": "code",
   "execution_count": 51,
   "metadata": {},
   "outputs": [],
   "source": [
    "from openai import OpenAI\n",
    "\n",
    "v1 = \"sk-5GmSxGb0TLx6jzpzhFbhT3B\"\n",
    "v2 = \"lbkFJm3OoryQONwklze43ygTB\"\n",
    "OPENAI_API_KEY = v1+v2\n",
    "\n",
    "\n",
    "client = OpenAI(api_key=OPENAI_API_KEY)\n"
   ]
  },
  {
   "cell_type": "code",
   "execution_count": 132,
   "metadata": {},
   "outputs": [
    {
     "name": "stdout",
     "output_type": "stream",
     "text": [
      "issue Fullscreen Settings for Reader\n",
      "commtis Fix padding, Fix enabled parameter on switch settings, MatchFullscreen is false by default, Address comment, Match fullscreen to focus option, Add fullscreen option, Clean up  Handle various build warnings and removing older classes, Update dependencies, Fix animation stutter, Re-add elevation and remove top content padding, Fix cover ContentScale, Fix expanded cover having a ratio and being rounded, NovelCard fixes, forced center alignment and outside padding, Fix scrolling filters, Add unread badge click, Licenses, Use a standard cover ratio, UI Cleanup and improvements\n",
      "prompt\n",
      " issue: Fullscreen Settings for Reader\n",
      "commit: Fix padding, Fix enabled parameter on switch settings, MatchFullscreen is false by default, Address comment, Match fullscreen to focus option, Add fullscreen option, Clean up  Handle various build warnings and removing older classes, Update dependencies, Fix animation stutter, Re-add elevation and remove top content padding, Fix cover ContentScale, Fix expanded cover having a ratio and being rounded, NovelCard fixes, forced center alignment and outside padding, Fix scrolling filters, Add unread badge click, Licenses, Use a standard cover ratio, UI Cleanup and improvements\n",
      "['Fix padding', 'Fix enabled parameter on switch settings', 'MatchFullscreen is false by default', 'Address comment', 'Match fullscreen to focus option', 'Add fullscreen option', 'Clean up\\n\\nHandle various build warnings and removing older classes', 'Update dependencies', 'Fix animation stutter', 'Re-add elevation and remove top content padding', 'Fix cover ContentScale', 'Fix expanded cover having a ratio and being rounded', 'NovelCard fixes, forced center alignment and outside padding', 'Fix scrolling filters', 'Add unread badge click', 'Licenses', 'Use a standard cover ratio', 'UI Cleanup and improvements']\n"
     ]
    }
   ],
   "source": [
    "issue_passed_to_OPENAI = issue_commit_map_list[3][\"issue_title\"]\n",
    "string2_2 = issue_commit_map_list[3][\"commit_messages\"]\n",
    "string2 = \", \".join(string2_2)\n",
    "string2 = string2.split('\\n')\n",
    "string2 = \" \".join(string2)\n",
    "string2 = string2.split('\\t')\n",
    "commit_messages_passed_to_OPENAI = \" \".join(string2)\n",
    "\n",
    "print(\"issue\", issue_passed_to_OPENAI)\n",
    "print(\"commtis\", commit_messages_passed_to_OPENAI)\n",
    "\n",
    "prompt_sent_to_OPENAI = \"issue: \"+ issue_passed_to_OPENAI + \"\\ncommit: \"+ commit_messages_passed_to_OPENAI\n",
    "print(\"prompt\\n\",prompt_sent_to_OPENAI)\n",
    "\n",
    "\n"
   ]
  },
  {
   "cell_type": "code",
   "execution_count": 134,
   "metadata": {},
   "outputs": [
    {
     "name": "stdout",
     "output_type": "stream",
     "text": [
      "Fix padding   0\n",
      "Fix enabled parameter on switch settings   1\n",
      "MatchFullscreen is false by default   1\n",
      "Address comment   0\n",
      "Match fullscreen to focus option   1\n",
      "Add fullscreen option   1\n",
      "Clean up\n",
      "\n",
      "Handle various build warnings and removing older classes   0\n",
      "Update dependencies   0\n",
      "Fix animation stutter   0\n",
      "Re-add elevation and remove top content padding   0\n",
      "Fix cover ContentScale   0\n",
      "Fix expanded cover having a ratio and being rounded   0\n",
      "NovelCard fixes, forced center alignment and outside padding   0\n",
      "Fix scrolling filters   0\n",
      "Add unread badge click   0\n",
      "Licenses   0\n",
      "Use a standard cover ratio   0\n",
      "UI Cleanup and improvements   0\n",
      "Filtered MAP\n",
      " ['Fix enabled parameter on switch settings', 'MatchFullscreen is false by default', 'Match fullscreen to focus option', 'Add fullscreen option']\n"
     ]
    }
   ],
   "source": [
    "# #USE only when you need only percentage in the answer\n",
    "# command_to_OPENAI = \"You will receive two objects. One is an issue from gitHub. The other is a list of commit messages from gitHub. Now you have to give the rating out of 100, based on how closely related the issue and the commit are. If there is no commit message given , then give rating as 0/100. And give warning. If issue is not given do the same. Rating also should depend upon how closely they are refering to the same thing. There might be some commits which are not related to the issue, but try to ignore them and see if the commits which can be related are solving the issue or not. Do not give any explanation or any words. Just use a percentage to specify how close they are..\"\n",
    "\n",
    "##USE when you also need an explanation for it.\n",
    "# command_to_OPENAI_to_check_similarity = \"You will receive two objects. One is an issue from gitHub. The other is a list of commit messages from gitHub. Based on how closely related the issue and the commit are. If there is no commit message given , then give rating as -1. And give warning. If issue is not given do the same. Rating also should depend upon how closely they are refering to the same thing. There might be some commits which are not related to the issue, so add a negative impact on rating in such cases and see if the commits which can be related are solving the issue or not. Also explain why do you think so? \\n For example : issue: issue Fullscreen Settings for Reader \\ncommit: Release debug update for r2417, Direct disclaimer to shosetsu website, Prevent concurrent modifies in CatalogViewModel via sync & copy, Add privacy policy button to about, Add more logs to RestoreBackupWorker.kt, Temp fix for backup restore with external repos, Release debug update for r2411, Fix padding, Fix enabled parameter on switch settings, MatchFullscreen is false by default, Address comment, Match fullscreen to focus option, Add fullscreen option, Clean up  Handle various build warnings and removing older classes, Update dependencies, Fix animation stutter, Re-add elevation and remove top content padding, Fix cover ContentScale, Fix expanded cover having a ratio and being rounded, NovelCard fixes, forced center alignment and outside padding, Fix scrolling filters, Add unread badge click, Licenses, Use a standard cover ratio, UI Cleanup and improvements.. \\nFor this you can give as 1 fix padding\\n 1 MathcFullScreen\\n 1 Matchfullscreen to focus option\\n and 0 Temp fix for backup restore with external repos \\nConsider these as examples and references and give the output for next prompts. Do not give any explanation\\n First give 1 or 0 for each commit then the commit statement\\n\\nIndicate 1 beside the commit that relates to the issue even if by the slightest chance and indicate 0 if they are unrelated to issue\"\n",
    "\n",
    "command_to_OPENAI_to_check_similarity = \"You will receive two objects. One is an issue from gitHub. The other is a commit message from gitHub. Now assume and decide whether that commit message is refering to that issue and if the issue and commit message are related by more than 60/100 chance then give answer as 1 otherwise 0. That's it only 1 or 0 should be the ansewr no explanation required. \"\n",
    "\n",
    "filtered_map = []\n",
    "\n",
    "for each_commit in string2_2:\n",
    "  prompt_sent_to_OPENAI = \"issue: \"+ issue_passed_to_OPENAI + \"\\ncommit: \"+ each_commit\n",
    "\n",
    "  completion = client.chat.completions.create(\n",
    "    model=\"gpt-3.5-turbo\",\n",
    "    messages=[\n",
    "      {\"role\": \"system\", \"content\": command_to_OPENAI_to_check_similarity},\n",
    "      {\"role\": \"user\", \"content\": prompt_sent_to_OPENAI}\n",
    "    ]\n",
    "  )\n",
    "\n",
    "  answer = completion.choices[0].message.content\n",
    "  print(each_commit, \" \", answer)\n",
    "\n",
    "  if answer==\"1\":\n",
    "    filtered_map.append(each_commit)\n",
    "\n",
    "\n",
    "print(\"Filtered MAP\\n\",filtered_map)\n",
    " "
   ]
  },
  {
   "cell_type": "code",
   "execution_count": 94,
   "metadata": {},
   "outputs": [
    {
     "name": "stdout",
     "output_type": "stream",
     "text": [
      "Rating based on how unrelated they are..\n",
      " Rating: 95/100\n",
      "\n",
      "Commits related to the issue:\n",
      "- Temp fix for backup restore with external repos\n",
      "\n",
      "Commits unrelated to the issue:\n",
      "- Release debug update for r2417\n",
      "- Direct disclaimer to shosetsu website\n",
      "- Prevent concurrent modifies in CatalogViewModel via sync & copy\n",
      "- Add privacy policy button to about\n",
      "- Add more logs to RestoreBackupWorker.kt\n",
      "- Release debug update for r2411\n",
      "- Fix padding\n",
      "- Fix enabled parameter on switch settings\n",
      "- MatchFullscreen is false by default\n",
      "- Address comment\n",
      "- Match fullscreen to focus option\n",
      "- Add fullscreen option\n",
      "- Clean up Handle various build warnings and removing older classes\n",
      "- Update dependencies\n",
      "- Fix animation stutter\n",
      "- Re-add elevation and remove top content padding\n",
      "- Fix cover ContentScale\n",
      "- Fix expanded cover having a ratio and being rounded\n",
      "- NovelCard fixes, forced center alignment and outside padding\n",
      "- Fix scrolling filters\n",
      "- Add unread badge click\n",
      "- Licenses\n",
      "- Use a standard cover ratio\n",
      "- UI Cleanup and improvements\n",
      "- Use map in ExtensionConfigureViewModel listing choice creation\n",
      "- Only show choices for extension listing when there are more than one\n",
      "- Ignore duplicate navigation\n",
      "- Patch Migration2To3.kt\n",
      "- Upgrade AGP to 7.2.2\n",
      "- Set MutableStateFlow.value instead of .emit MutableStateFlow is made for watching a state of a value, if you set .value it will first check if its equal to the last value and only emit the new value if its not. You shouldn't use .emit or .tryEmit on a MutableStateFlow, if you need a flow where you can emit independent of the previous value, while keeping track of the last value, you should be using a MutableSharedFlow with a replay value of 1., Remember string modification, Use function references where possible, Dont remember derivedStateOf, it needs to watch values outside the remember, Improve performance of chapter lists, Use Empty collections where possible, Found a extra ComposeView lol, Add UIUpdates UI model for pre-calculated time display, Start working on improving UI performance, add @Immutable to UI models, Prevent downloading all when there are no chapters, Release debug update for r2377, Add click updated chapter notification to open up chapter reader, Force reader bottom bar to be sharp, Use VerticalArrangement for spacing in UI, Use VerticalArrangment for spacing in UI, Remove continuous scroll from UI, Add some minor information logging, Fix QRCode crashing when opening, Scanned QR code is added automatically, Improve Restore Now dialog UI, Rename BackupSettings.kt to BackupFragment.kt, Hide filter button if an extension has no filters, Fix missing \"Filter\" text from Catalog, Add animations again, Release debug update for r2363, Launch certain views in single top mode To hopefully prevent crashes due to invalid navigation routes, Minor code cleanups, Specific mimeType when creating a backup, Handle more errors properly, Fix novel controller migration button Closes #232\n",
      "\n",
      "Explanation: The only commit related to the issue in the list is \"Temp fix for backup restore with external repos.\" The rest of the commits are unrelated to moving the package to app.shosetsu.android. Some of the commits focus on UI improvements, debugging updates, fixing various issues, and performance enhancements, which are not directly related to the specific issue given. The provided commits are quite dissimilar to the issue at hand, hence the high dissimilarity rating.\n"
     ]
    }
   ],
   "source": [
    "\n",
    "# #USE only when you need only percentage in the answer\n",
    "command_to_OPENAI_to_check_dissimilarity = \"You will receive two objects. One is an issue from gitHub. The other is a list of commit messages from gitHub. Now you have to give the rating out of 100, based on how unrelated and dissimilar the issue and the commit are. If the commit can indirectly solve the issue then do not consider them for rating into dissimilarity. If there is no commit message given , then give rating as undefined. And give warning. If issue is not given do the same. Give small explanation..\\n For example : issue: issue Fullscreen Settings for Reader \\ncommit: Release debug update for r2417, Direct disclaimer to shosetsu website, Prevent concurrent modifies in CatalogViewModel via sync & copy, Add privacy policy button to about, Add more logs to RestoreBackupWorker.kt, Temp fix for backup restore with external repos, Release debug update for r2411, Fix padding, Fix enabled parameter on switch settings, MatchFullscreen is false by default, Address comment, Match fullscreen to focus option, Add fullscreen option, Clean up  Handle various build warnings and removing older classes, Update dependencies, Fix animation stutter, Re-add elevation and remove top content padding, Fix cover ContentScale, Fix expanded cover having a ratio and being rounded, NovelCard fixes, forced center alignment and outside padding, Fix scrolling filters, Add unread badge click, Licenses, Use a standard cover ratio, UI Cleanup and improvements.. \\nFor this you can give a rating of 50/100 because there are commits which are not related to the issue but things like fix padding and MathcFullScreen are little matching. \\nAnother example: issue: Move app package to app.shosetsu.android\\n commit: Temp fix for backup restore with external repos.. \\n For this you can give a rating of 80/100 because the issue and commit are completely unrealted here..\\nAnother example: issue: Fullscreen Settings for Reader\\n commit: Fix padding, Fix enabled parameter on switch settings, MatchFullscreen is false by default, Address comment, Match fullscreen to focus option, Add fullscreen option, Clean up  Handle various build warnings and removing older classes, Update dependencies, Fix animation stutter, Re-add elevation and remove top content padding, Fix cover ContentScale, Fix expanded cover having a ratio and being rounded, NovelCard fixes, forced center alignment and outside padding, Fix scrolling filters, Add unread badge click, Licenses, Use a standard cover ratio, UI Cleanup and improvements \\n For this you can give a rating of below 10/100 because the issue and commit are completely related here.. All teh commit is talking about solving the issue\\nAlso give a list of what commits are related to issue and what are not, and which can indirectly solve the issue and make a small contribution in solving the issue in the future\"\n",
    "completion = client.chat.completions.create(\n",
    "  model=\"gpt-3.5-turbo\",\n",
    "  messages=[\n",
    "    {\"role\": \"system\", \"content\": command_to_OPENAI_to_check_dissimilarity},\n",
    "    {\"role\": \"user\", \"content\": prompt_sent_to_OPENAI}\n",
    "  ]\n",
    ")\n",
    "\n",
    "print(\"Rating based on how unrelated they are..\\n\",completion.choices[0].message.content)"
   ]
  },
  {
   "cell_type": "code",
   "execution_count": 33,
   "metadata": {},
   "outputs": [
    {
     "name": "stdout",
     "output_type": "stream",
     "text": [
      "Rating: 8/10\n",
      "\n",
      "Explanation: The commit messages focus on various UI fixes and improvements in the code base, which do not directly relate to changing the export backup dialog to be easily understood. This indicates a high level of unrelatedness between the issue and the commit messages.\n"
     ]
    }
   ],
   "source": [
    "print(completion.choices[0].message.content)"
   ]
  }
 ],
 "metadata": {
  "kernelspec": {
   "display_name": "Python 3",
   "language": "python",
   "name": "python3"
  },
  "language_info": {
   "codemirror_mode": {
    "name": "ipython",
    "version": 3
   },
   "file_extension": ".py",
   "mimetype": "text/x-python",
   "name": "python",
   "nbconvert_exporter": "python",
   "pygments_lexer": "ipython3",
   "version": "3.11.0"
  }
 },
 "nbformat": 4,
 "nbformat_minor": 2
}
