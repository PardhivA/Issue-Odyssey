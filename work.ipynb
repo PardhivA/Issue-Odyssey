{
 "cells": [
  {
   "cell_type": "code",
   "execution_count": 42,
   "metadata": {},
   "outputs": [],
   "source": [
    "from datetime import datetime\n",
    "import requests\n",
    "import json"
   ]
  },
  {
   "cell_type": "code",
   "execution_count": 47,
   "metadata": {},
   "outputs": [],
   "source": [
    "f = open('issues.json', encoding=\"utf8\")\n",
    "issues = json.load(f)"
   ]
  },
  {
   "cell_type": "code",
   "execution_count": 48,
   "metadata": {},
   "outputs": [],
   "source": [
    "f = open('commits.json', encoding=\"utf8\")\n",
    "commits = json.load(f)"
   ]
  },
  {
   "cell_type": "code",
   "execution_count": 49,
   "metadata": {},
   "outputs": [
    {
     "name": "stdout",
     "output_type": "stream",
     "text": [
      "{'author': {'name': 'Doomsdayrs', 'email': '38189170+Doomsdayrs@users.noreply.github.com', 'date': '2022-10-03T01:07:57Z'}, 'committer': {'name': 'GitHub', 'email': 'noreply@github.com', 'date': '2022-10-03T01:07:57Z'}, 'message': 'Update update.json', 'tree': {'sha': 'ab1bea32cc167f377e7328e8e9829963cbfcf5a7', 'url': 'https://api.github.com/repos/shosetsuorg/shosetsu/git/trees/ab1bea32cc167f377e7328e8e9829963cbfcf5a7'}, 'url': 'https://api.github.com/repos/shosetsuorg/shosetsu/git/commits/692ab6ea892c6e03aa6d1530f460ceb873a1a029', 'comment_count': 0, 'verification': {'verified': True, 'reason': 'valid', 'signature': '-----BEGIN PGP SIGNATURE-----\\n\\nwsBcBAABCAAQBQJjOjXtCRBK7hj4Ov3rIwAA/mkIADUa5Wey6d5tWl+ynAh+dOyS\\nyh3YvoVEHXAXvA+C4cHGXVIx+SMhj3q8JRapaVSNM5UstmG89R8PqhBsSnvLybVP\\nMf5svasFJACQVOOP6hy/6bJmZv3BI4AsySnTQskUi+TfO6gR1/+8gl9hc10Wbtm+\\nPrTIypZQ3uV98u0xiSY+XQispfDXNhbFuIOZB8lh0Xc7T07c+MdY02KYrDpkJHeU\\n31PQiJ4kjNAPFvuZfGeFWQWw+D5wtPOnrGAoU/w32lbioYFAlSsDNDxtEowot5t3\\nzFsjpksr6U+Hcu40diBINQc990eQasm44ZprjF7sgmyuHtJxEKdITemMAb9jHlI=\\n=Grne\\n-----END PGP SIGNATURE-----\\n', 'payload': 'tree ab1bea32cc167f377e7328e8e9829963cbfcf5a7\\nparent ffcdd41cb60ca864d40726c10041fde719c7743f\\nauthor Doomsdayrs <38189170+Doomsdayrs@users.noreply.github.com> 1664759277 -0400\\ncommitter GitHub <noreply@github.com> 1664759277 -0400\\n\\nUpdate update.json'}}\n"
     ]
    }
   ],
   "source": [
    "print(commits[0][\"commit\"])"
   ]
  },
  {
   "cell_type": "code",
   "execution_count": 50,
   "metadata": {},
   "outputs": [
    {
     "name": "stdout",
     "output_type": "stream",
     "text": [
      "100\n"
     ]
    }
   ],
   "source": [
    "issue_commit_map = {}\n",
    "\n",
    "for issue in issues:\n",
    "    issue_created_at = issue[\"created_at\"]\n",
    "    issue_closed_at = issue[\"closed_at\"]\n",
    "    issue_created_at = datetime.fromisoformat(issue_created_at.replace('Z', '+00:00'))\n",
    "    issue_closed_at = datetime.fromisoformat(issue_closed_at.replace('Z', '+00:00'))\n",
    "    issue_commit_map[issue[\"id\"]] = {\"issue_title\": issue[\"title\"], \"commit_messages\":[]}\n",
    "    for commit in commits:\n",
    "    # print(\"created_at\",obj[\"created_at\"], \"\\nclosed_at\", obj[\"closed_at\"])\n",
    "        commit_made_at = commit[\"commit\"][\"committer\"][\"date\"]\n",
    "        commit_made_at = datetime.fromisoformat(commit_made_at.replace('Z', '+00:00'))\n",
    "        # print(commit_made_at)\n",
    "        if commit_made_at>=issue_created_at and commit_made_at<=issue_closed_at:\n",
    "            # new_item = {\"issue_id\": issue[\"id\"], \"commit_message\":commit[\"commit\"][\"message\"]}\n",
    "            issue_commit_map[issue[\"id\"]][\"commit_messages\"].append(commit[\"commit\"][\"message\"])\n",
    "\n",
    "# print(issue_commit_map)\n",
    "\n",
    "issue_commit_map_list = list(issue_commit_map.values())\n",
    "print(len(issue_commit_map_list))"
   ]
  },
  {
   "cell_type": "code",
   "execution_count": 51,
   "metadata": {},
   "outputs": [],
   "source": [
    "from openai import OpenAI\n",
    "\n",
    "v1 = \"sk-5GmSxGb0TLx6jzpzhFbhT3B\"\n",
    "v2 = \"lbkFJm3OoryQONwklze43ygTB\"\n",
    "OPENAI_API_KEY = v1+v2\n",
    "\n",
    "\n",
    "client = OpenAI(api_key=OPENAI_API_KEY)\n"
   ]
  },
  {
   "cell_type": "code",
   "execution_count": 55,
   "metadata": {},
   "outputs": [
    {
     "name": "stdout",
     "output_type": "stream",
     "text": [
      "issue Fullscreen Settings for Reader\n",
      "commtis Fix padding, Fix enabled parameter on switch settings, MatchFullscreen is false by default, Address comment, Match fullscreen to focus option, Add fullscreen option, Clean up  Handle various build warnings and removing older classes, Update dependencies, Fix animation stutter, Re-add elevation and remove top content padding, Fix cover ContentScale, Fix expanded cover having a ratio and being rounded, NovelCard fixes, forced center alignment and outside padding, Fix scrolling filters, Add unread badge click, Licenses, Use a standard cover ratio, UI Cleanup and improvements\n",
      "prompt\n",
      " issue: Fullscreen Settings for Reader\n",
      "commit: Fix padding, Fix enabled parameter on switch settings, MatchFullscreen is false by default, Address comment, Match fullscreen to focus option, Add fullscreen option, Clean up  Handle various build warnings and removing older classes, Update dependencies, Fix animation stutter, Re-add elevation and remove top content padding, Fix cover ContentScale, Fix expanded cover having a ratio and being rounded, NovelCard fixes, forced center alignment and outside padding, Fix scrolling filters, Add unread badge click, Licenses, Use a standard cover ratio, UI Cleanup and improvements\n"
     ]
    }
   ],
   "source": [
    "issue_passed_to_OPENAI = issue_commit_map_list[3][\"issue_title\"]\n",
    "string2 = issue_commit_map_list[3][\"commit_messages\"]\n",
    "string2 = \", \".join(string2)\n",
    "string2 = string2.split('\\n')\n",
    "string2 = \" \".join(string2)\n",
    "string2 = string2.split('\\t')\n",
    "commit_messages_passed_to_OPENAI = \" \".join(string2)\n",
    "\n",
    "print(\"issue\", issue_passed_to_OPENAI)\n",
    "print(\"commtis\", commit_messages_passed_to_OPENAI)\n",
    "\n",
    "prompt_sent_to_OPENAI = \"issue: \"+ issue_passed_to_OPENAI + \"\\ncommit: \"+ commit_messages_passed_to_OPENAI\n",
    "print(\"prompt\\n\",prompt_sent_to_OPENAI)\n"
   ]
  },
  {
   "cell_type": "code",
   "execution_count": 57,
   "metadata": {},
   "outputs": [
    {
     "name": "stdout",
     "output_type": "stream",
     "text": [
      "Rating based on how closely related they are..\n",
      " Rating: 95/100\n",
      "\n",
      "Explanation: The commit messages provided are closely related to the issue of implementing Fullscreen Settings for Reader. Each commit addresses different aspects of the Fullscreen Settings, such as fixing padding, enabling parameters, matching fullscreen to focus option, adding fullscreen option, fixing animation stutter, and cleaning up UI. The commits directly address the implementation of the Fullscreen Settings, making the connection between the issue and the commits very strong. The only reason it's not a perfect 100 is because some commits may be for general cleanup or improvements that are not directly linked to the Fullscreen Settings, but the majority of the commits are directly related.\n",
      "Rating based on how unrelated they are..\n",
      " Rating: 40/100\n",
      "\n",
      "Explanation: The commit messages include a variety of fixes, updates, and improvements to the codebase, but it is not clear how directly they address the specific issue of adding Fullscreen Settings for Reader. Some of the commits may indirectly contribute to enhancing the reader experience or interface, but the relationship to the fullscreen settings is not evident. Further explicit commits related to adding fullscreen settings could have helped in rating this better.\n"
     ]
    }
   ],
   "source": [
    "# #USE only when you need only percentage in the answer\n",
    "# command_to_OPENAI = \"You will receive two objects. One is an issue from gitHub. The other is a list of commit messages from gitHub. Now you have to give the rating out of 100, based on how closely related the issue and the commit are. If there is no commit message given , then give rating as 0/100. And give warning. If issue is not given do the same. Rating also should depend upon how closely they are refering to the same thing. There might be some commits which are not related to the issue, but try to ignore them and see if the commits which can be related are solving the issue or not. Do not give any explanation or any words. Just use a percentage to specify how close they are..\"\n",
    "\n",
    "##USE when you also need an explanation for it.\n",
    "command_to_OPENAI_to_check_similarity = \"You will receive two objects. One is an issue from gitHub. The other is a list of commit messages from gitHub. Now you have to give the rating out of 100, based on how closely related the issue and the commit are. If there is no commit message given , then give rating as 0/100. And give warning. If issue is not given do the same. Rating also should depend upon how closely they are refering to the same thing. There might be some commits which are not related to the issue, but try to ignore them and see if the commits which can be related are solving the issue or not. Also explain why do you think so? \\n For example : issue: issue Fullscreen Settings for Reader \\ncommit: Release debug update for r2417, Direct disclaimer to shosetsu website, Prevent concurrent modifies in CatalogViewModel via sync & copy, Add privacy policy button to about, Add more logs to RestoreBackupWorker.kt, Temp fix for backup restore with external repos, Release debug update for r2411, Fix padding, Fix enabled parameter on switch settings, MatchFullscreen is false by default, Address comment, Match fullscreen to focus option, Add fullscreen option, Clean up  Handle various build warnings and removing older classes, Update dependencies, Fix animation stutter, Re-add elevation and remove top content padding, Fix cover ContentScale, Fix expanded cover having a ratio and being rounded, NovelCard fixes, forced center alignment and outside padding, Fix scrolling filters, Add unread badge click, Licenses, Use a standard cover ratio, UI Cleanup and improvements.. \\nFor this you can give a rating of 60 because there are commits which are not related to the issue but things like fix padding and MathcFullScreen are little matching. \\nAnother example: issue: Move app package to app.shosetsu.android\\n commit: Temp fix for backup restore with external repos.. \\n For this you can give a rating of below 5 because the issue and commit are completely unrealted here..\\nAnother example: issue: Fullscreen Settings for Reader\\n commit: Fix padding, Fix enabled parameter on switch settings, MatchFullscreen is false by default, Address comment, Match fullscreen to focus option, Add fullscreen option, Clean up  Handle various build warnings and removing older classes, Update dependencies, Fix animation stutter, Re-add elevation and remove top content padding, Fix cover ContentScale, Fix expanded cover having a ratio and being rounded, NovelCard fixes, forced center alignment and outside padding, Fix scrolling filters, Add unread badge click, Licenses, Use a standard cover ratio, UI Cleanup and improvements \\n For this you can give a rating of 80 or even 85 because the issue and commit are completely related here.. All teh commit is talking about solving the issue\\nConsider these as examples and references and give the output for next prompts. Do not give any suggestions, only give explanation briefly\\n First give rating then give explanation\"\n",
    "\n",
    "completion = client.chat.completions.create(\n",
    "  model=\"gpt-3.5-turbo\",\n",
    "  messages=[\n",
    "    {\"role\": \"system\", \"content\": command_to_OPENAI_to_check_similarity},\n",
    "    {\"role\": \"user\", \"content\": prompt_sent_to_OPENAI}\n",
    "  ]\n",
    ")\n",
    "\n",
    "print(\"Rating based on how closely related they are..\\n\",completion.choices[0].message.content)\n",
    "\n",
    "# #USE only when you need only percentage in the answer\n",
    "command_to_OPENAI_to_check_dissimilarity = \"You will receive two objects. One is an issue from gitHub. The other is a list of commit messages from gitHub. Now you have to give the rating out of 100, based on how unrelated the issue and the commit are. If the commit can indirectly solve the issue then do not consider it for rating. If there is no commit message given , then give rating as undefined. And give warning. If issue is not given do the same. Give small explanation..\"\n",
    "\n",
    "completion = client.chat.completions.create(\n",
    "  model=\"gpt-3.5-turbo\",\n",
    "  messages=[\n",
    "    {\"role\": \"system\", \"content\": command_to_OPENAI_to_check_dissimilarity},\n",
    "    {\"role\": \"user\", \"content\": prompt_sent_to_OPENAI}\n",
    "  ]\n",
    ")\n",
    "\n",
    "print(\"Rating based on how unrelated they are..\\n\",completion.choices[0].message.content)"
   ]
  },
  {
   "cell_type": "code",
   "execution_count": 33,
   "metadata": {},
   "outputs": [
    {
     "name": "stdout",
     "output_type": "stream",
     "text": [
      "Rating: 8/10\n",
      "\n",
      "Explanation: The commit messages focus on various UI fixes and improvements in the code base, which do not directly relate to changing the export backup dialog to be easily understood. This indicates a high level of unrelatedness between the issue and the commit messages.\n"
     ]
    }
   ],
   "source": [
    "print(completion.choices[0].message.content)"
   ]
  }
 ],
 "metadata": {
  "kernelspec": {
   "display_name": "Python 3",
   "language": "python",
   "name": "python3"
  },
  "language_info": {
   "codemirror_mode": {
    "name": "ipython",
    "version": 3
   },
   "file_extension": ".py",
   "mimetype": "text/x-python",
   "name": "python",
   "nbconvert_exporter": "python",
   "pygments_lexer": "ipython3",
   "version": "3.11.0"
  }
 },
 "nbformat": 4,
 "nbformat_minor": 2
}
