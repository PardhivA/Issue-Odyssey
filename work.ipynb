{
 "cells": [
  {
   "cell_type": "code",
   "execution_count": 1,
   "metadata": {},
   "outputs": [],
   "source": [
    "from datetime import datetime\n",
    "import requests\n",
    "import json"
   ]
  },
  {
   "cell_type": "code",
   "execution_count": 4,
   "metadata": {},
   "outputs": [
    {
     "name": "stdout",
     "output_type": "stream",
     "text": [
      "2022-08-17T05:13:54Z\n"
     ]
    }
   ],
   "source": [
    "f = open('issues.json')\n",
    "issues = json.load(f)"
   ]
  },
  {
   "cell_type": "code",
   "execution_count": 5,
   "metadata": {},
   "outputs": [],
   "source": [
    "f = open('commits.json')\n",
    "commits = json.load(f)"
   ]
  },
  {
   "cell_type": "code",
   "execution_count": 9,
   "metadata": {},
   "outputs": [
    {
     "name": "stdout",
     "output_type": "stream",
     "text": [
      "{'author': {'name': 'Doomsdayrs', 'email': '38189170+Doomsdayrs@users.noreply.github.com', 'date': '2022-10-03T01:07:57Z'}, 'committer': {'name': 'GitHub', 'email': 'noreply@github.com', 'date': '2022-10-03T01:07:57Z'}, 'message': 'Update update.json', 'tree': {'sha': 'ab1bea32cc167f377e7328e8e9829963cbfcf5a7', 'url': 'https://api.github.com/repos/shosetsuorg/shosetsu/git/trees/ab1bea32cc167f377e7328e8e9829963cbfcf5a7'}, 'url': 'https://api.github.com/repos/shosetsuorg/shosetsu/git/commits/692ab6ea892c6e03aa6d1530f460ceb873a1a029', 'comment_count': 0, 'verification': {'verified': True, 'reason': 'valid', 'signature': '-----BEGIN PGP SIGNATURE-----\\n\\nwsBcBAABCAAQBQJjOjXtCRBK7hj4Ov3rIwAA/mkIADUa5Wey6d5tWl+ynAh+dOyS\\nyh3YvoVEHXAXvA+C4cHGXVIx+SMhj3q8JRapaVSNM5UstmG89R8PqhBsSnvLybVP\\nMf5svasFJACQVOOP6hy/6bJmZv3BI4AsySnTQskUi+TfO6gR1/+8gl9hc10Wbtm+\\nPrTIypZQ3uV98u0xiSY+XQispfDXNhbFuIOZB8lh0Xc7T07c+MdY02KYrDpkJHeU\\n31PQiJ4kjNAPFvuZfGeFWQWw+D5wtPOnrGAoU/w32lbioYFAlSsDNDxtEowot5t3\\nzFsjpksr6U+Hcu40diBINQc990eQasm44ZprjF7sgmyuHtJxEKdITemMAb9jHlI=\\n=Grne\\n-----END PGP SIGNATURE-----\\n', 'payload': 'tree ab1bea32cc167f377e7328e8e9829963cbfcf5a7\\nparent ffcdd41cb60ca864d40726c10041fde719c7743f\\nauthor Doomsdayrs <38189170+Doomsdayrs@users.noreply.github.com> 1664759277 -0400\\ncommitter GitHub <noreply@github.com> 1664759277 -0400\\n\\nUpdate update.json'}}\n"
     ]
    }
   ],
   "source": [
    "print(commits[0][\"commit\"])"
   ]
  },
  {
   "cell_type": "code",
   "execution_count": 11,
   "metadata": {},
   "outputs": [
    {
     "name": "stdout",
     "output_type": "stream",
     "text": [
      "[{'issue_title': 'Move app package to app.shosetsu.android', 'commit_messages': ['Move app package to app.shosetsu.android']}, {'issue_title': 'Temp fix for backup restore with external repos', 'commit_messages': ['Temp fix for backup restore with external repos']}, {'issue_title': '[Bug] [App lags] ', 'commit_messages': ['Fix proguard-rules.pro', 'Move app package to app.shosetsu.android', 'Release debug update for r2417', 'Direct disclaimer to shosetsu website', 'Prevent concurrent modifies in CatalogViewModel via sync & copy', 'Add privacy policy button to about', 'Add more logs to RestoreBackupWorker.kt', 'Temp fix for backup restore with external repos']}, {'issue_title': 'Fullscreen Settings for Reader', 'commit_messages': ['Fix padding', 'Fix enabled parameter on switch settings', 'MatchFullscreen is false by default', 'Address comment', 'Match fullscreen to focus option', 'Add fullscreen option', 'Clean up\\n\\nHandle various build warnings and removing older classes', 'Update dependencies', 'Fix animation stutter', 'Re-add elevation and remove top content padding', 'Fix cover ContentScale', 'Fix expanded cover having a ratio and being rounded', 'NovelCard fixes, forced center alignment and outside padding', 'Fix scrolling filters', 'Add unread badge click', 'Licenses', 'Use a standard cover ratio', 'UI Cleanup and improvements']}, {'issue_title': 'UI Cleanup and improvements', 'commit_messages': ['Fix animation stutter', 'Re-add elevation and remove top content padding', 'Fix cover ContentScale', 'Fix expanded cover having a ratio and being rounded', 'NovelCard fixes, forced center alignment and outside padding', 'Fix scrolling filters', 'Add unread badge click', 'Licenses', 'Use a standard cover ratio', 'UI Cleanup and improvements']}, {'issue_title': 'Multiple optimizations for performance', 'commit_messages': []}, {'issue_title': '[F-R] Chapter range download', 'commit_messages': []}, {'issue_title': '[Bug] [2.0.0-2344] Migrate source button malfunctioning', 'commit_messages': []}, {'issue_title': 'Move package to app.shosetsu.android', 'commit_messages': ['Release debug update for r2417', 'Direct disclaimer to shosetsu website', 'Prevent concurrent modifies in CatalogViewModel via sync & copy', 'Add privacy policy button to about', 'Add more logs to RestoreBackupWorker.kt', 'Temp fix for backup restore with external repos', 'Release debug update for r2411', 'Fix padding', 'Fix enabled parameter on switch settings', 'MatchFullscreen is false by default', 'Address comment', 'Match fullscreen to focus option', 'Add fullscreen option', 'Clean up\\n\\nHandle various build warnings and removing older classes', 'Update dependencies', 'Fix animation stutter', 'Re-add elevation and remove top content padding', 'Fix cover ContentScale', 'Fix expanded cover having a ratio and being rounded', 'NovelCard fixes, forced center alignment and outside padding', 'Fix scrolling filters', 'Add unread badge click', 'Licenses', 'Use a standard cover ratio', 'UI Cleanup and improvements']}, {'issue_title': '[F-R] Change export backup dialog to be easily understood', 'commit_messages': []}, {'issue_title': '[F-R]', 'commit_messages': []}, {'issue_title': '[Bug] [r2258] Mix up of chapters in the reader with vertical paging.', 'commit_messages': []}, {'issue_title': '[F-R]', 'commit_messages': []}, {'issue_title': 'Search results stay between sources[Bug] [VERSION]', 'commit_messages': []}, {'issue_title': '[F-R]Add a way to cancel titles of chapters because they are spoilers', 'commit_messages': []}, {'issue_title': \"[Bug] [2186]'Teleportation' to chapter when you click the resume button is wrong if the sort is the oppisite\", 'commit_messages': []}, {'issue_title': '[F-R] Kolnovel server', 'commit_messages': []}, {'issue_title': '[Bug] [r2186]Unbookmark button selects all the chapters for no reason', 'commit_messages': []}, {'issue_title': '[F-R]Limit download speed.of.chapters', 'commit_messages': []}, {'issue_title': '[Bug] [2186] Heavy lag occours and accumulate over time after normal use', 'commit_messages': []}, {'issue_title': '[F-R]Give overlay to this upper bar', 'commit_messages': []}, {'issue_title': 'Shosetsu V2', 'commit_messages': ['Release debug update for r2417', 'Direct disclaimer to shosetsu website', 'Prevent concurrent modifies in CatalogViewModel via sync & copy', 'Add privacy policy button to about', 'Add more logs to RestoreBackupWorker.kt', 'Temp fix for backup restore with external repos', 'Release debug update for r2411', 'Fix padding', 'Fix enabled parameter on switch settings', 'MatchFullscreen is false by default', 'Address comment', 'Match fullscreen to focus option', 'Add fullscreen option', 'Clean up\\n\\nHandle various build warnings and removing older classes', 'Update dependencies', 'Fix animation stutter', 'Re-add elevation and remove top content padding', 'Fix cover ContentScale', 'Fix expanded cover having a ratio and being rounded', 'NovelCard fixes, forced center alignment and outside padding', 'Fix scrolling filters', 'Add unread badge click', 'Licenses', 'Use a standard cover ratio', 'UI Cleanup and improvements']}, {'issue_title': '[Bug] [VERSION] \"End of input at character 0 of\" bug', 'commit_messages': []}, {'issue_title': 'Implement Paging for loading data from extensions', 'commit_messages': []}, {'issue_title': '[F-R] Space between the text and the borders settable', 'commit_messages': ['Fix proguard-rules.pro', 'Move app package to app.shosetsu.android', 'Release debug update for r2417', 'Direct disclaimer to shosetsu website', 'Prevent concurrent modifies in CatalogViewModel via sync & copy', 'Add privacy policy button to about', 'Add more logs to RestoreBackupWorker.kt', 'Temp fix for backup restore with external repos', 'Release debug update for r2411', 'Fix padding', 'Fix enabled parameter on switch settings', 'MatchFullscreen is false by default', 'Address comment', 'Match fullscreen to focus option', 'Add fullscreen option', 'Clean up\\n\\nHandle various build warnings and removing older classes', 'Update dependencies', 'Fix animation stutter', 'Re-add elevation and remove top content padding', 'Fix cover ContentScale', 'Fix expanded cover having a ratio and being rounded', 'NovelCard fixes, forced center alignment and outside padding', 'Fix scrolling filters', 'Add unread badge click', 'Licenses', 'Use a standard cover ratio', 'UI Cleanup and improvements']}, {'issue_title': \"[Bug] Back gesture doesn't work properly in reader. [r2050]\", 'commit_messages': []}, {'issue_title': '[Bug] Unable to go back if volume scroll enabled.', 'commit_messages': []}, {'issue_title': '[Bug] [VERSION]', 'commit_messages': []}, {'issue_title': 'white screen in Dark Mode when opening the app (2.0.0-1697)', 'commit_messages': []}, {'issue_title': '[SOURCE REQUEST]', 'commit_messages': []}]\n"
     ]
    }
   ],
   "source": [
    "issue_commit_map = {}\n",
    "\n",
    "for issue in issues:\n",
    "    issue_created_at = issue[\"created_at\"]\n",
    "    issue_closed_at = issue[\"closed_at\"]\n",
    "    issue_created_at = datetime.fromisoformat(issue_created_at.replace('Z', '+00:00'))\n",
    "    issue_closed_at = datetime.fromisoformat(issue_closed_at.replace('Z', '+00:00'))\n",
    "    issue_commit_map[issue[\"id\"]] = {\"issue_title\": issue[\"title\"], \"commit_messages\":[]}\n",
    "    for commit in commits:\n",
    "    # print(\"created_at\",obj[\"created_at\"], \"\\nclosed_at\", obj[\"closed_at\"])\n",
    "        commit_made_at = commit[\"commit\"][\"committer\"][\"date\"]\n",
    "        commit_made_at = datetime.fromisoformat(commit_made_at.replace('Z', '+00:00'))\n",
    "        # print(commit_made_at)\n",
    "        if commit_made_at>=issue_created_at and commit_made_at<=issue_closed_at:\n",
    "            # new_item = {\"issue_id\": issue[\"id\"], \"commit_message\":commit[\"commit\"][\"message\"]}\n",
    "            issue_commit_map[issue[\"id\"]][\"commit_messages\"].append(commit[\"commit\"][\"message\"])\n",
    "\n",
    "# print(issue_commit_map)\n",
    "\n",
    "issue_commit_map_list = list(issue_commit_map.values())\n",
    "print(issue_commit_map_list)"
   ]
  },
  {
   "cell_type": "code",
   "execution_count": 21,
   "metadata": {},
   "outputs": [],
   "source": [
    "from openai import OpenAI\n",
    "\n",
    "v1 = \"sk-5GmSxGb0TLx6jzpzhFbhT3B\"\n",
    "v2 = \"lbkFJm3OoryQONwklze43ygTB\"\n",
    "OPENAI_API_KEY = v1+v2\n",
    "\n",
    "\n",
    "client = OpenAI(api_key=OPENAI_API_KEY)\n"
   ]
  },
  {
   "cell_type": "code",
   "execution_count": 46,
   "metadata": {},
   "outputs": [
    {
     "name": "stdout",
     "output_type": "stream",
     "text": [
      "issue Fullscreen Settings for Reader\n",
      "commtis Fix animation stutter, Re-add elevation and remove top content padding, Fix cover ContentScale, Fix expanded cover having a ratio and being rounded, NovelCard fixes, forced center alignment and outside padding, Fix scrolling filters, Add unread badge click, Licenses, Use a standard cover ratio, UI Cleanup and improvements\n",
      "prompt\n",
      " issue: Fullscreen Settings for Reader\n",
      "commit: Fix animation stutter, Re-add elevation and remove top content padding, Fix cover ContentScale, Fix expanded cover having a ratio and being rounded, NovelCard fixes, forced center alignment and outside padding, Fix scrolling filters, Add unread badge click, Licenses, Use a standard cover ratio, UI Cleanup and improvements\n"
     ]
    }
   ],
   "source": [
    "issue_passed_to_OPENAI = issue_commit_map_list[3][\"issue_title\"]\n",
    "string2 = issue_commit_map_list[4][\"commit_messages\"]\n",
    "string2 = \", \".join(string2)\n",
    "string2 = string2.split('\\n')\n",
    "string2 = \" \".join(string2)\n",
    "string2 = string2.split('\\t')\n",
    "commit_messages_passed_to_OPENAI = \" \".join(string2)\n",
    "\n",
    "print(\"issue\", issue_passed_to_OPENAI)\n",
    "print(\"commtis\", commit_messages_passed_to_OPENAI)\n",
    "\n",
    "prompt_sent_to_OPENAI = \"issue: \"+ issue_passed_to_OPENAI + \"\\ncommit: \"+ commit_messages_passed_to_OPENAI\n",
    "print(\"prompt\\n\",prompt_sent_to_OPENAI)\n"
   ]
  },
  {
   "cell_type": "code",
   "execution_count": 49,
   "metadata": {},
   "outputs": [],
   "source": [
    "##USE only when you need only percentage in the answer\n",
    "# command_to_OPENAI = \"You will receive two objects. One is an issue from gitHub. The other is a list of commit messages from gitHub. Now you have to give the rating out of 10, based on how closely related the issue and the commit are. Rating also should depend upon how closely they are refering to the same thing. There might be some commits which are not related to the issue, but try to ignore them and see if the commits which can be related are solving the issue or not. Do not give any explanation or any words. Just use a percentage to specify how close they are..\"\n",
    "\n",
    "##USE when you also need an explanation for it.\n",
    "command_to_OPENAI = \"You will receive two objects. One is an issue from gitHub. The other is a list of commit messages from gitHub. Now you have to give the rating out of 10, based on how closely related the issue and the commit are. Rating also should depend upon how closely they are refering to the same thing. There might be some commits which are not related to the issue, but try to ignore them and see if the commits which can be related are solving the issue or not. Also explain why do you think so?\"\n",
    "\n",
    "completion = client.chat.completions.create(\n",
    "  model=\"gpt-3.5-turbo\",\n",
    "  messages=[\n",
    "    {\"role\": \"system\", \"content\": command_to_OPENAI},\n",
    "    {\"role\": \"user\", \"content\": prompt_sent_to_OPENAI}\n",
    "  ]\n",
    ")"
   ]
  },
  {
   "cell_type": "code",
   "execution_count": 50,
   "metadata": {},
   "outputs": [
    {
     "name": "stdout",
     "output_type": "stream",
     "text": [
      "70%\n"
     ]
    }
   ],
   "source": [
    "print(completion.choices[0].message.content)"
   ]
  }
 ],
 "metadata": {
  "kernelspec": {
   "display_name": "Python 3",
   "language": "python",
   "name": "python3"
  },
  "language_info": {
   "codemirror_mode": {
    "name": "ipython",
    "version": 3
   },
   "file_extension": ".py",
   "mimetype": "text/x-python",
   "name": "python",
   "nbconvert_exporter": "python",
   "pygments_lexer": "ipython3",
   "version": "3.11.0"
  }
 },
 "nbformat": 4,
 "nbformat_minor": 2
}
